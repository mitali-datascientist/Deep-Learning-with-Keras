{
  "nbformat": 4,
  "nbformat_minor": 0,
  "metadata": {
    "colab": {
      "name": "Deep Learning Practice.ipynb",
      "provenance": [],
      "authorship_tag": "ABX9TyMNkcUJHn1FSe7cPh1FVS9g",
      "include_colab_link": true
    },
    "kernelspec": {
      "name": "python3",
      "display_name": "Python 3"
    }
  },
  "cells": [
    {
      "cell_type": "markdown",
      "metadata": {
        "id": "view-in-github",
        "colab_type": "text"
      },
      "source": [
        "<a href=\"https://colab.research.google.com/github/mitali-datascientist/Deep-Learning-with-Keras/blob/master/Deep_Learning_Practice.ipynb\" target=\"_parent\"><img src=\"https://colab.research.google.com/assets/colab-badge.svg\" alt=\"Open In Colab\"/></a>"
      ]
    },
    {
      "cell_type": "markdown",
      "metadata": {
        "id": "XK-0b3AJjRzt",
        "colab_type": "text"
      },
      "source": [
        "## Input Layers"
      ]
    },
    {
      "cell_type": "code",
      "metadata": {
        "id": "VvlAvkcOro2D",
        "colab_type": "code",
        "colab": {}
      },
      "source": [
        "from keras.layers import Input \n",
        "# Create an input layer of shape 1\n",
        "input_tensor = Input(shape=(1,))"
      ],
      "execution_count": 0,
      "outputs": []
    },
    {
      "cell_type": "markdown",
      "metadata": {
        "id": "-KM_RvvRry34",
        "colab_type": "text"
      },
      "source": [
        "##Dense Layers"
      ]
    },
    {
      "cell_type": "code",
      "metadata": {
        "id": "9TYUYAjyrxku",
        "colab_type": "code",
        "colab": {}
      },
      "source": [
        "# Load layers\n",
        "from keras.layers import Input, Dense\n",
        "\n",
        "# Input layer\n",
        "input_tensor = Input(shape=(1,))\n",
        "\n",
        "# Dense layer\n",
        "output_layer = Dense(1)\n",
        "\n",
        "# Connect the dense layer to the input_tensor\n",
        "output_tensor = output_layer(input_tensor)"
      ],
      "execution_count": 0,
      "outputs": []
    },
    {
      "cell_type": "markdown",
      "metadata": {
        "id": "4PcU7y5Sr5gk",
        "colab_type": "text"
      },
      "source": [
        "##Output Layer"
      ]
    },
    {
      "cell_type": "code",
      "metadata": {
        "id": "hdXS0GBBr3bs",
        "colab_type": "code",
        "colab": {}
      },
      "source": [
        "# Load layers\n",
        "from keras.layers import Input, Dense\n",
        "\n",
        "# Input layer\n",
        "input_tensor = Input(shape=(1,))\n",
        "\n",
        "# Create a dense layer and connect the dense layer to the input_tensor in one step\n",
        "# Note that we did this in 2 steps in the previous exercise, but are doing it in one step now\n",
        "output_tensor = Dense(1)(input_tensor)"
      ],
      "execution_count": 0,
      "outputs": []
    },
    {
      "cell_type": "markdown",
      "metadata": {
        "id": "J3wBIoQ-r_9L",
        "colab_type": "text"
      },
      "source": [
        "##Build a model"
      ]
    },
    {
      "cell_type": "code",
      "metadata": {
        "id": "6Yg8Y7Rwr-Y-",
        "colab_type": "code",
        "colab": {}
      },
      "source": [
        "# Input/dense/output layers\n",
        "from keras.layers import Input, Dense\n",
        "input_tensor = Input(shape=(1,))\n",
        "output_tensor = Dense(1)(input_tensor)\n",
        "\n",
        "# Build the model\n",
        "from keras.models import Model\n",
        "model = Model(input_tensor, output_tensor)"
      ],
      "execution_count": 0,
      "outputs": []
    },
    {
      "cell_type": "markdown",
      "metadata": {
        "id": "iIrSzioksEz4",
        "colab_type": "text"
      },
      "source": [
        "##Compile model"
      ]
    },
    {
      "cell_type": "code",
      "metadata": {
        "id": "6K3nniJTsDOV",
        "colab_type": "code",
        "colab": {}
      },
      "source": [
        "# Compile the model\n",
        "model.compile(optimizer='adam', loss='mean_absolute_error')"
      ],
      "execution_count": 0,
      "outputs": []
    },
    {
      "cell_type": "markdown",
      "metadata": {
        "id": "moYkClvPsIW9",
        "colab_type": "text"
      },
      "source": [
        "## Visualize model"
      ]
    },
    {
      "cell_type": "code",
      "metadata": {
        "id": "7yeymCSKsHtw",
        "colab_type": "code",
        "outputId": "a04d8581-ac66-4310-c583-4e69752c86bc",
        "colab": {
          "base_uri": "https://localhost:8080/",
          "height": 473
        }
      },
      "source": [
        "# Import the plotting function\n",
        "from keras.utils import plot_model\n",
        "import matplotlib.pyplot as plt\n",
        "\n",
        "# Summarize the model\n",
        "model.summary()\n",
        "\n",
        "# # Plot the model\n",
        "plot_model(model, to_file='model.png')\n",
        "\n",
        "# # Display the image\n",
        "data = plt.imread('model.png')\n",
        "plt.imshow(data)\n",
        "plt.show()"
      ],
      "execution_count": 0,
      "outputs": [
        {
          "output_type": "stream",
          "text": [
            "Model: \"model_1\"\n",
            "_________________________________________________________________\n",
            "Layer (type)                 Output Shape              Param #   \n",
            "=================================================================\n",
            "input_4 (InputLayer)         (None, 1)                 0         \n",
            "_________________________________________________________________\n",
            "dense_3 (Dense)              (None, 1)                 2         \n",
            "=================================================================\n",
            "Total params: 2\n",
            "Trainable params: 2\n",
            "Non-trainable params: 0\n",
            "_________________________________________________________________\n"
          ],
          "name": "stdout"
        },
        {
          "output_type": "display_data",
          "data": {
            "image/png": "[encoded data removed]",
            "text/plain": [
              "<Figure size 432x288 with 1 Axes>"
            ]
          },
          "metadata": {
            "tags": [],
            "needs_background": "light"
          }
        }
      ]
    },
    {
      "cell_type": "markdown",
      "metadata": {
        "id": "RAXLoW8d7H2j",
        "colab_type": "text"
      },
      "source": [
        "# Single model for classification and regression \n",
        "Possible only using Deep Learning "
      ]
    },
    {
      "cell_type": "code",
      "metadata": {
        "id": "-e9Ub6xDsuVW",
        "colab_type": "code",
        "colab": {
          "base_uri": "https://localhost:8080/",
          "height": 34
        },
        "outputId": "5f460756-9596-4c84-cade-3e6d47bfada2"
      },
      "source": [
        "from keras.layers import Input, Dense \n",
        "input_tensor = Input(shape=(1,))\n",
        "output_tensor_reg = Dense(1)(input_tensor)\n",
        "output_tensor_clas = Dense(1,activation='sigmoid')(output_tensor_reg)"
      ],
      "execution_count": 1,
      "outputs": [
        {
          "output_type": "stream",
          "text": [
            "Using TensorFlow backend.\n"
          ],
          "name": "stderr"
        }
      ]
    },
    {
      "cell_type": "code",
      "metadata": {
        "id": "usFZyGgA78QE",
        "colab_type": "code",
        "colab": {}
      },
      "source": [
        "from keras.models import Model \n",
        "model =  Model(input_tensor,[output_tensor_reg,output_tensor_clas])\n",
        "model.compile(loss=['mean_absolute_error','binary_crossentropy'], optimizer='adam')"
      ],
      "execution_count": 0,
      "outputs": []
    },
    {
      "cell_type": "code",
      "metadata": {
        "id": "r85VXnH79X4g",
        "colab_type": "code",
        "colab": {}
      },
      "source": [
        "X=g[['d']]\n",
        "y1 = g[['s1']]\n",
        "y2= g[['s2']]\n",
        "\n",
        "model.fit(X,[y1,y2],epochs=100)"
      ],
      "execution_count": 0,
      "outputs": []
    },
    {
      "cell_type": "code",
      "metadata": {
        "id": "Vf8IwIpe9i1g",
        "colab_type": "code",
        "colab": {}
      },
      "source": [
        "model.get_weights()"
      ],
      "execution_count": 0,
      "outputs": []
    }
  ]
}