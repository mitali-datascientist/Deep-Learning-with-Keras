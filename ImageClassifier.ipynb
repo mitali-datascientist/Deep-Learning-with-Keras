{
  "nbformat": 4,
  "nbformat_minor": 0,
  "metadata": {
    "colab": {
      "name": "ImageClassifier.ipynb",
      "provenance": [],
      "authorship_tag": "ABX9TyPNtLjLO+bUVBFgCw7KH3hw",
      "include_colab_link": true
    },
    "kernelspec": {
      "name": "python3",
      "display_name": "Python 3"
    }
  },
  "cells": [
    {
      "cell_type": "markdown",
      "metadata": {
        "id": "view-in-github",
        "colab_type": "text"
      },
      "source": [
        "<a href=\"https://colab.research.google.com/github/mitali-datascientist/Deep-Learning-with-Keras/blob/master/ImageClassifier.ipynb\" target=\"_parent\"><img src=\"https://colab.research.google.com/assets/colab-badge.svg\" alt=\"Open In Colab\"/></a>"
      ]
    },
    {
      "cell_type": "markdown",
      "metadata": {
        "id": "lfedSsUaCX4H",
        "colab_type": "text"
      },
      "source": [
        "# Here, using the MNIST dataset available, we'll be builiding an Image Classifier using Neural Networks. \n",
        "\n",
        "#### The MNIST database of handwritten digits, available from this page, has a training set of 60,000 examples, and a test set of 10,000 examples. It is a subset of a larger set available from NIST. The digits have been size-normalized and centered in a fixed-size image.\n",
        "##### It is a good database for people who want to try learning techniques and pattern recognition methods on real-world data while spending minimal efforts on preprocessing and formatting."
      ]
    },
    {
      "cell_type": "code",
      "metadata": {
        "id": "lRE_gnAHCP-q",
        "colab_type": "code",
        "colab": {}
      },
      "source": [
        "#Importing Tensorflow\n",
        "import tensorflow as tf"
      ],
      "execution_count": 2,
      "outputs": []
    },
    {
      "cell_type": "code",
      "metadata": {
        "id": "imSjcAFzCx_n",
        "colab_type": "code",
        "colab": {}
      },
      "source": [
        "#Load dataset \n",
        "mnist_data = tf.keras.datasets.mnist"
      ],
      "execution_count": 3,
      "outputs": []
    },
    {
      "cell_type": "code",
      "metadata": {
        "id": "Ox3TpwBBEPF4",
        "colab_type": "code",
        "colab": {
          "base_uri": "https://localhost:8080/",
          "height": 51
        },
        "outputId": "55ec6a8a-a7bd-449d-f67e-ef0a7eb5e121"
      },
      "source": [
        "## Convert the samples from integers to floating-point numbers\n",
        "(x_train, y_train), (x_test, y_test) = mnist_data.load_data()\n",
        "x_train, x_test = x_train / 255.0, x_test / 255.0"
      ],
      "execution_count": 4,
      "outputs": [
        {
          "output_type": "stream",
          "text": [
            "Downloading data from https://storage.googleapis.com/tensorflow/tf-keras-datasets/mnist.npz\n",
            "11493376/11490434 [==============================] - 0s 0us/step\n"
          ],
          "name": "stdout"
        }
      ]
    },
    {
      "cell_type": "code",
      "metadata": {
        "id": "U2fjxEEcHG_0",
        "colab_type": "code",
        "colab": {}
      },
      "source": [
        "## Build the tf.keras.Sequential model by stacking layers. We chose an optimizer and loss function for training\n",
        "model = tf.keras.models.Sequential([\n",
        "  tf.keras.layers.Flatten(input_shape=(28, 28)),\n",
        "  tf.keras.layers.Dense(128, activation='relu'),\n",
        "  tf.keras.layers.Dropout(0.2),\n",
        "  tf.keras.layers.Dense(10)\n",
        "])"
      ],
      "execution_count": 5,
      "outputs": []
    },
    {
      "cell_type": "code",
      "metadata": {
        "id": "qbDzQqHbHTBs",
        "colab_type": "code",
        "colab": {
          "base_uri": "https://localhost:8080/",
          "height": 68
        },
        "outputId": "bee4fe50-5b0f-49cc-c4d2-48ab041d31c0"
      },
      "source": [
        "predictions = model(x_train[:1]).numpy()\n",
        "predictions"
      ],
      "execution_count": 6,
      "outputs": [
        {
          "output_type": "execute_result",
          "data": {
            "text/plain": [
              "array([[-0.27363384, -0.3680734 ,  0.31769925,  0.7294545 ,  0.25029123,\n",
              "         0.25189787,  0.21874118,  0.1741325 ,  0.02127616,  0.60150874]],\n",
              "      dtype=float32)"
            ]
          },
          "metadata": {
            "tags": []
          },
          "execution_count": 6
        }
      ]
    },
    {
      "cell_type": "code",
      "metadata": {
        "id": "L-PeUaglHdFo",
        "colab_type": "code",
        "colab": {
          "base_uri": "https://localhost:8080/",
          "height": 68
        },
        "outputId": "988c12e8-372b-4f58-cb8f-f17c0dbf97a0"
      },
      "source": [
        "## The tf.nn.softmax function converts these logits to \"probabilities\" for each class\n",
        "tf.nn.softmax(predictions).numpy()\n"
      ],
      "execution_count": 7,
      "outputs": [
        {
          "output_type": "execute_result",
          "data": {
            "text/plain": [
              "array([[0.0596438 , 0.05426886, 0.10774025, 0.16263014, 0.10071706,\n",
              "        0.10087901, 0.09758904, 0.09333139, 0.08010195, 0.14309844]],\n",
              "      dtype=float32)"
            ]
          },
          "metadata": {
            "tags": []
          },
          "execution_count": 7
        }
      ]
    },
    {
      "cell_type": "code",
      "metadata": {
        "id": "vL2xfh7vHinY",
        "colab_type": "code",
        "colab": {}
      },
      "source": [
        "## The losses.SparseCategoricalCrossentropy loss takes a vector of logits and a True index and returns a scalar loss for each example\n",
        "loss_fn = tf.keras.losses.SparseCategoricalCrossentropy(from_logits=True)\n"
      ],
      "execution_count": 8,
      "outputs": []
    },
    {
      "cell_type": "code",
      "metadata": {
        "id": "N_FCl_KOHuWh",
        "colab_type": "code",
        "colab": {
          "base_uri": "https://localhost:8080/",
          "height": 34
        },
        "outputId": "e2ff1e8b-309d-4f10-967c-8c7d72c83005"
      },
      "source": [
        "loss_fn(y_train[:1], predictions).numpy()\n"
      ],
      "execution_count": 9,
      "outputs": [
        {
          "output_type": "execute_result",
          "data": {
            "text/plain": [
              "2.2938333"
            ]
          },
          "metadata": {
            "tags": []
          },
          "execution_count": 9
        }
      ]
    },
    {
      "cell_type": "code",
      "metadata": {
        "id": "jVSMf7eCHwlO",
        "colab_type": "code",
        "colab": {}
      },
      "source": [
        "model.compile(optimizer='adam',\n",
        "              loss=loss_fn,\n",
        "              metrics=['accuracy'])"
      ],
      "execution_count": 10,
      "outputs": []
    },
    {
      "cell_type": "code",
      "metadata": {
        "id": "-1gRnZxGH0rn",
        "colab_type": "code",
        "colab": {
          "base_uri": "https://localhost:8080/",
          "height": 204
        },
        "outputId": "6644c0a6-cd07-45ef-918c-cc66d7c23fba"
      },
      "source": [
        "## The Model.fit method adjusts the model parameters to minimize the loss\n",
        "model.fit(x_train, y_train, epochs=5)\n"
      ],
      "execution_count": 11,
      "outputs": [
        {
          "output_type": "stream",
          "text": [
            "Epoch 1/5\n",
            "1875/1875 [==============================] - 4s 2ms/step - loss: 0.2978 - accuracy: 0.9123\n",
            "Epoch 2/5\n",
            "1875/1875 [==============================] - 4s 2ms/step - loss: 0.1445 - accuracy: 0.9566\n",
            "Epoch 3/5\n",
            "1875/1875 [==============================] - 3s 2ms/step - loss: 0.1085 - accuracy: 0.9674\n",
            "Epoch 4/5\n",
            "1875/1875 [==============================] - 4s 2ms/step - loss: 0.0874 - accuracy: 0.9724\n",
            "Epoch 5/5\n",
            "1875/1875 [==============================] - 3s 2ms/step - loss: 0.0747 - accuracy: 0.9758\n"
          ],
          "name": "stdout"
        },
        {
          "output_type": "execute_result",
          "data": {
            "text/plain": [
              "<tensorflow.python.keras.callbacks.History at 0x7f3475fcd7b8>"
            ]
          },
          "metadata": {
            "tags": []
          },
          "execution_count": 11
        }
      ]
    },
    {
      "cell_type": "code",
      "metadata": {
        "id": "axOnFQLWH5g1",
        "colab_type": "code",
        "colab": {
          "base_uri": "https://localhost:8080/",
          "height": 51
        },
        "outputId": "1eaec97b-a3a1-4648-9003-1120775acf9a"
      },
      "source": [
        "## The Model.evaluate method checks the models performance, usually on a \"Validation-set\" or \"Test-set\".\n",
        "model.evaluate(x_test,  y_test, verbose=2)\n"
      ],
      "execution_count": 12,
      "outputs": [
        {
          "output_type": "stream",
          "text": [
            "313/313 - 0s - loss: 0.0793 - accuracy: 0.9743\n"
          ],
          "name": "stdout"
        },
        {
          "output_type": "execute_result",
          "data": {
            "text/plain": [
              "[0.0792577937245369, 0.9743000268936157]"
            ]
          },
          "metadata": {
            "tags": []
          },
          "execution_count": 12
        }
      ]
    },
    {
      "cell_type": "code",
      "metadata": {
        "id": "SxOPZIn_IbKY",
        "colab_type": "code",
        "colab": {}
      },
      "source": [
        "## If you want your model to return a probability, you can wrap the trained model, and attach the softmax to it\n",
        "probability_model = tf.keras.Sequential([\n",
        "  model,\n",
        "  tf.keras.layers.Softmax()\n",
        "])"
      ],
      "execution_count": 13,
      "outputs": []
    },
    {
      "cell_type": "code",
      "metadata": {
        "id": "OXhsApzbJB1p",
        "colab_type": "code",
        "colab": {
          "base_uri": "https://localhost:8080/",
          "height": 289
        },
        "outputId": "145240d4-5a96-47f6-d1cc-184d163dfa92"
      },
      "source": [
        "probability_model(x_test[:5])\n"
      ],
      "execution_count": 14,
      "outputs": [
        {
          "output_type": "execute_result",
          "data": {
            "text/plain": [
              "<tf.Tensor: shape=(5, 10), dtype=float32, numpy=\n",
              "array([[1.1439296e-08, 5.4035922e-09, 1.3926635e-06, 6.1988430e-05,\n",
              "        1.3749282e-10, 7.8230379e-08, 1.6697964e-13, 9.9992132e-01,\n",
              "        3.0040049e-08, 1.5065717e-05],\n",
              "       [3.3183255e-07, 2.3600855e-03, 9.9721056e-01, 4.2234556e-04,\n",
              "        1.5970061e-16, 5.8359606e-06, 6.3539670e-07, 6.6785418e-12,\n",
              "        2.2900760e-07, 4.0992106e-11],\n",
              "       [1.2259059e-07, 9.9912661e-01, 8.9612295e-05, 5.8735473e-06,\n",
              "        7.7838140e-06, 3.5994306e-06, 2.7902463e-05, 6.7160407e-04,\n",
              "        6.6020846e-05, 8.9040850e-07],\n",
              "       [9.9996197e-01, 4.2644450e-07, 3.0414336e-05, 6.1758158e-07,\n",
              "        3.1118550e-09, 6.8319707e-07, 2.7709145e-06, 1.9413255e-06,\n",
              "        4.4776061e-11, 1.2069747e-06],\n",
              "       [5.8661102e-05, 9.6154888e-09, 1.7523973e-05, 3.4852526e-06,\n",
              "        9.3978381e-01, 3.1251270e-07, 2.3095010e-05, 1.1860802e-04,\n",
              "        8.3694376e-06, 5.9985962e-02]], dtype=float32)>"
            ]
          },
          "metadata": {
            "tags": []
          },
          "execution_count": 14
        }
      ]
    },
    {
      "cell_type": "code",
      "metadata": {
        "id": "MM0dVG9pJOzB",
        "colab_type": "code",
        "colab": {}
      },
      "source": [
        ""
      ],
      "execution_count": null,
      "outputs": []
    }
  ]
}